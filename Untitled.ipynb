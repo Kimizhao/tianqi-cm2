{
 "cells": [
  {
   "cell_type": "code",
   "execution_count": 1,
   "id": "7edc15b7-b3c6-471e-9f49-e68b96563fd0",
   "metadata": {},
   "outputs": [
    {
     "name": "stderr",
     "output_type": "stream",
     "text": [
      "2024-01-31 22:11:20,148 - modelscope - INFO - PyTorch version 2.1.2 Found.\n",
      "2024-01-31 22:11:20,149 - modelscope - INFO - TensorFlow version 2.14.0 Found.\n",
      "2024-01-31 22:11:20,149 - modelscope - INFO - Loading ast index from /home/geoai/.cache/modelscope/ast_indexer\n",
      "2024-01-31 22:11:20,199 - modelscope - INFO - Loading done! Current index file version is 1.11.0, with md5 197fc10e5138a7eb588909475e3cf5fd and a total number of 953 components indexed\n",
      "2024-01-31 22:11:20.963192: E tensorflow/compiler/xla/stream_executor/cuda/cuda_dnn.cc:9342] Unable to register cuDNN factory: Attempting to register factory for plugin cuDNN when one has already been registered\n",
      "2024-01-31 22:11:20.963215: E tensorflow/compiler/xla/stream_executor/cuda/cuda_fft.cc:609] Unable to register cuFFT factory: Attempting to register factory for plugin cuFFT when one has already been registered\n",
      "2024-01-31 22:11:20.963232: E tensorflow/compiler/xla/stream_executor/cuda/cuda_blas.cc:1518] Unable to register cuBLAS factory: Attempting to register factory for plugin cuBLAS when one has already been registered\n",
      "2024-01-31 22:11:20.967767: I tensorflow/core/platform/cpu_feature_guard.cc:182] This TensorFlow binary is optimized to use available CPU instructions in performance-critical operations.\n",
      "To enable the following instructions: AVX2 FMA, in other operations, rebuild TensorFlow with the appropriate compiler flags.\n",
      "2024-01-31 22:11:21.601625: W tensorflow/compiler/tf2tensorrt/utils/py_utils.cc:38] TF-TRT Warning: Could not find TensorRT\n",
      "2024-01-31 22:11:22,007 - modelscope - INFO - initiate model from /media/geoai/Data/nlp/output\n",
      "2024-01-31 22:11:22,008 - modelscope - INFO - initiate model from location /media/geoai/Data/nlp/output.\n",
      "2024-01-31 22:11:22,020 - modelscope - INFO - initialize model from /media/geoai/Data/nlp/output\n"
     ]
    },
    {
     "name": "stdout",
     "output_type": "stream",
     "text": [
      "今日本市有阵雨，气象局发布了雷电橙色预警，雨天路面湿滑，请小心慢行。\n"
     ]
    }
   ],
   "source": [
    "# 推理测试\n",
    "from modelscope.pipelines import pipeline\n",
    "from modelscope.utils.constant import Tasks\n",
    "text_generation_zh = pipeline(Tasks.text_generation, model='/media/geoai/Data/nlp/output')\n",
    "# result_zh = text_generation_zh(\"今日天气类型='浮尘'&空气质量等级='重度污染'&紫外线强度指数='中等'\")\n",
    "# result_zh = text_generation_zh(\"今日天气类型='小雪'&预警等级='蓝色'&预警类型='道路冰雪'\")\n",
    "result_zh = text_generation_zh(\"今日天气类型=‘阵雨‘＆预警等级=‘橙色‘&预警类型=‘雷电’\")\n",
    "print(result_zh['text'])"
   ]
  },
  {
   "cell_type": "code",
   "execution_count": 2,
   "id": "e5481eed-41b7-4b69-993c-d3a2c806e56b",
   "metadata": {},
   "outputs": [
    {
     "name": "stderr",
     "output_type": "stream",
     "text": [
      "2024-01-31 19:15:34,857 - modelscope - INFO - No subset_name specified, defaulting to the default\n",
      "2024-01-31 19:15:35,788 - modelscope - WARNING - Reusing dataset dataset_builder (/home/geoai/.cache/modelscope/hub/datasets/zhaozh/weather_infomation_generation/master/data_files)\n",
      "2024-01-31 19:15:35,789 - modelscope - INFO - Generating dataset dataset_builder (/home/geoai/.cache/modelscope/hub/datasets/zhaozh/weather_infomation_generation/master/data_files)\n",
      "2024-01-31 19:15:35,790 - modelscope - INFO - Reusing cached meta-data file: /home/geoai/.cache/modelscope/hub/datasets/zhaozh/weather_infomation_generation/master/data_files/7e20f9b821276630629afa915c38fb34\n",
      "2024-01-31 19:15:35,791 - modelscope - INFO - Reusing cached meta-data file: /home/geoai/.cache/modelscope/hub/datasets/zhaozh/weather_infomation_generation/master/data_files/f4481787c3c83ace405d2d780a0fccc3\n",
      "2024-01-31 19:15:35,791 - modelscope - INFO - Reusing cached meta-data file: /home/geoai/.cache/modelscope/hub/datasets/zhaozh/weather_infomation_generation/master/data_files/c22dc0e2a67febaa5a5d93f9454d71c0\n"
     ]
    }
   ],
   "source": [
    "from modelscope.msdatasets import MsDataset\n",
    "# weather_infomation_generation 为示例数据集，用户也可以使用自己的数据集进行训练\n",
    "dataset_dict = MsDataset.load('weather_infomation_generation', namespace='zhaozh')"
   ]
  },
  {
   "cell_type": "code",
   "execution_count": 4,
   "id": "1175752c-fe68-41e2-b8d2-115118e1740c",
   "metadata": {},
   "outputs": [],
   "source": [
    "# 训练数据的输入出均为文本，需要将数据集预处理为输入为 src_txt，输出为 tgt_txt 的格式：\n",
    "train_dataset = dataset_dict['train'].remap_columns({'text1': 'src_txt', 'text2': 'tgt_txt'})\n",
    "eval_dataset = dataset_dict['validation'].remap_columns({'text1': 'src_txt', 'text2': 'tgt_txt'})"
   ]
  },
  {
   "cell_type": "code",
   "execution_count": 10,
   "id": "fbd6ea8b-24c0-4033-8e78-bb172b733582",
   "metadata": {},
   "outputs": [
    {
     "data": {
      "text/plain": [
       "modelscope.msdatasets.ms_dataset.MsDataset"
      ]
     },
     "execution_count": 10,
     "metadata": {},
     "output_type": "execute_result"
    }
   ],
   "source": [
    "type(dataset_dict['train'])"
   ]
  },
  {
   "cell_type": "markdown",
   "id": "5e619e3c-14a0-460c-bb97-f1dca95a27bf",
   "metadata": {},
   "source": [
    "# 数据集使用指南\n",
    "https://modelscope.cn/docs/%E6%95%B0%E6%8D%AE%E9%9B%86%E4%BD%BF%E7%94%A8%E6%8C%87%E5%8D%97\n",
    "## 加载csv格式文件"
   ]
  },
  {
   "cell_type": "code",
   "execution_count": 14,
   "id": "0a67f121-223d-4e7a-8c8b-f1bdac032d7a",
   "metadata": {},
   "outputs": [
    {
     "name": "stderr",
     "output_type": "stream",
     "text": [
      "/home/geoai/miniconda3/envs/modelscope/lib/python3.10/site-packages/datasets/load.py:2491: FutureWarning: 'ignore_verifications' was deprecated in favor of 'verification_mode' in version 2.9.1 and will be removed in 3.0.0.\n",
      "You can remove this warning by passing 'verification_mode=no_checks' instead.\n",
      "  warnings.warn(\n"
     ]
    },
    {
     "data": {
      "application/vnd.jupyter.widget-view+json": {
       "model_id": "a3fef7ba1ab64406a0839ecabfbaa377",
       "version_major": 2,
       "version_minor": 0
      },
      "text/plain": [
       "Generating train split: 0 examples [00:00, ? examples/s]"
      ]
     },
     "metadata": {},
     "output_type": "display_data"
    },
    {
     "data": {
      "application/vnd.jupyter.widget-view+json": {
       "model_id": "1e8decc7fcfe40f2b025ec67af69dd97",
       "version_major": 2,
       "version_minor": 0
      },
      "text/plain": [
       "Generating test split: 0 examples [00:00, ? examples/s]"
      ]
     },
     "metadata": {},
     "output_type": "display_data"
    },
    {
     "data": {
      "application/vnd.jupyter.widget-view+json": {
       "model_id": "04f835f04a3745a899b6ad0ed55f7a6c",
       "version_major": 2,
       "version_minor": 0
      },
      "text/plain": [
       "Generating validation split: 0 examples [00:00, ? examples/s]"
      ]
     },
     "metadata": {},
     "output_type": "display_data"
    }
   ],
   "source": [
    "from modelscope.msdatasets import MsDataset\n",
    "\n",
    "train_csv = 'train.csv'\n",
    "test_csv = 'test.csv'\n",
    "valid_csv = 'valid.csv'\n",
    "\n",
    "dataset_dict = MsDataset.load('csv', data_files={'train': [train_csv], 'test': [test_csv], 'validation': [valid_csv]})\n",
    "# print(next(iter(ds)))"
   ]
  },
  {
   "cell_type": "code",
   "execution_count": 16,
   "id": "8e28158b-aa34-46b1-a0a4-d9c6d0c0ca84",
   "metadata": {},
   "outputs": [],
   "source": [
    "# 训练数据的输入出均为文本，需要将数据集预处理为输入为 src_txt，输出为 tgt_txt 的格式：\n",
    "train_dataset = dataset_dict['train'].remap_columns({'text1': 'src_txt', 'text2': 'tgt_txt'})\n",
    "eval_dataset = dataset_dict['validation'].remap_columns({'text1': 'src_txt', 'text2': 'tgt_txt'})"
   ]
  },
  {
   "cell_type": "markdown",
   "id": "53fa15ba-aa68-4fbc-a518-34efffce4df0",
   "metadata": {},
   "source": [
    "## 推理"
   ]
  },
  {
   "cell_type": "code",
   "execution_count": 3,
   "id": "5287d7ef-ec12-432a-a4d0-ece01c4c4015",
   "metadata": {
    "ExecutionIndicator": {
     "show": true
    },
    "execution": {
     "iopub.execute_input": "2024-02-01T02:09:44.788954Z",
     "iopub.status.busy": "2024-02-01T02:09:44.788646Z",
     "iopub.status.idle": "2024-02-01T02:09:51.308951Z",
     "shell.execute_reply": "2024-02-01T02:09:51.308340Z",
     "shell.execute_reply.started": "2024-02-01T02:09:44.788934Z"
    },
    "tags": []
   },
   "outputs": [
    {
     "name": "stderr",
     "output_type": "stream",
     "text": [
      "2024-02-01 10:09:44,792 - modelscope - INFO - initiate model from /mnt/workspace/tianqi/base_dir/output\n",
      "2024-02-01 10:09:44,793 - modelscope - INFO - initiate model from location /mnt/workspace/tianqi/base_dir/output.\n",
      "2024-02-01 10:09:44,794 - modelscope - INFO - initialize model from /mnt/workspace/tianqi/base_dir/output\n"
     ]
    },
    {
     "name": "stdout",
     "output_type": "stream",
     "text": [
      "今天白天我市上空云系较多，以多云天气为主，太阳偶尔会探出头来，午后大部分地区的最高气温在 32 - 35℃ 之间，人体感觉较为舒适。预计明后两天我市仍以多云天气为主，气温较昨日有所回升，午后大部分地区的最高气温在 32 - 35℃ 之间，人体感觉较为舒适。预计明后两天，我市\n"
     ]
    }
   ],
   "source": [
    "from modelscope.pipelines import pipeline\n",
    "from modelscope.utils.constant import Tasks\n",
    "# text_generation_zh = pipeline(Tasks.text_generation, model='/media/geoai/Data/nlp-tianqi/output')\n",
    "# text_generation_zh = pipeline(Tasks.text_generation, model='/mnt/workspace/tianqi/work_dir/output_best')\n",
    "# text_generation_zh = pipeline(Tasks.text_generation, model='/mnt/workspace/tianqi/weather_work_dir/output')\n",
    "text_generation_zh = pipeline(Tasks.text_generation, model='/mnt/workspace/tianqi/base_dir/output')\n",
    "# result_zh = text_generation_zh(\"今日天气类型='浮尘'&空气质量等级='重度污染'&紫外线强度指数='中等'\")\n",
    "result_zh = text_generation_zh(\"中暑指数='3级，可能中暑'&感冒指数='2级，感冒少发'&人体舒适度='1级，暖和，较舒适'&夜晨舒适度='1级，暖和，较舒适'&紫外线强度指数='3级，中等,需遮阳与涂防晒霜'&穿衣指数 ='1级，穿盛夏短装 '&郊游指数='2级，天气不太好,出游要有所防备'&森林火险='3级，中度危险,能燃烧'&明天市区温度='26到32'&明天永春温度='24到32'&明天沿海天气='阵雨'&明天山区天气='小雨转中雨'&明天风='偏东风4～5级'&后天市区温度='26到32'&后天永春温度='24到32'&后天沿海天气='阵雨'&后天山区天气='多云转小雨'&后天风='东北风4～5级阵风6级'&大后天市区温度='25到32'&大后天永春温度='24到33'&大后天沿海天气='小雨转多云'&大后天山区天气='小雨转多云'&大后天风='东北风5～6级阵风7～8级'\")\n",
    "print(result_zh['text'])"
   ]
  },
  {
   "cell_type": "code",
   "execution_count": null,
   "id": "da59b6e3-92d0-47bc-88ef-6ff3065ce152",
   "metadata": {
    "tags": []
   },
   "outputs": [],
   "source": [
    "len(result_zh['text'])"
   ]
  },
  {
   "cell_type": "code",
   "execution_count": 9,
   "id": "5b533ad5-fb48-4d56-84d4-80efa1baf360",
   "metadata": {
    "execution": {
     "iopub.execute_input": "2024-02-01T05:41:36.592387Z",
     "iopub.status.busy": "2024-02-01T05:41:36.592012Z",
     "iopub.status.idle": "2024-02-01T05:41:42.621184Z",
     "shell.execute_reply": "2024-02-01T05:41:42.620727Z",
     "shell.execute_reply.started": "2024-02-01T05:41:36.592368Z"
    },
    "tags": []
   },
   "outputs": [
    {
     "name": "stderr",
     "output_type": "stream",
     "text": [
      "2024-02-01 13:41:36,595 - modelscope - INFO - initiate model from /mnt/workspace/tianqi/base_dir/output\n",
      "2024-02-01 13:41:36,595 - modelscope - INFO - initiate model from location /mnt/workspace/tianqi/base_dir/output.\n",
      "2024-02-01 13:41:36,596 - modelscope - INFO - initialize model from /mnt/workspace/tianqi/base_dir/output\n"
     ]
    },
    {
     "name": "stdout",
     "output_type": "stream",
     "text": [
      "今天早上我市上空云系较多，以多云天气为主，太阳偶尔会探出头来，气温也是节节攀升，全市大部分乡镇午后最高气温在 20 之间，人体感觉较为舒适。预计明天我市以多云天气为主，局部乡镇午后最高气温将攀升至以上，山区部分乡镇午后最高气温将攀升至以上，沿海风力将有所减弱\n"
     ]
    }
   ],
   "source": [
    "from modelscope.pipelines import pipeline\n",
    "from modelscope.utils.constant import Tasks\n",
    "# text_generation_zh = pipeline(Tasks.text_generation, model='/media/geoai/Data/nlp-tianqi/output')\n",
    "# text_generation_zh = pipeline(Tasks.text_generation, model='/mnt/workspace/tianqi/work_dir/output_best')\n",
    "# text_generation_zh = pipeline(Tasks.text_generation, model='/mnt/workspace/tianqi/weather_work_dir/output')\n",
    "text_generation_zh = pipeline(Tasks.text_generation, model='/mnt/workspace/tianqi/base_dir/output')\n",
    "# result_zh = text_generation_zh(\"今日天气类型='浮尘'&空气质量等级='重度污染'&紫外线强度指数='中等'\")\n",
    "result_zh = text_generation_zh(\"中暑指数='3级，可能中暑'&感冒指数='2级，感冒少发'&人体舒适度='1级，暖和，较舒适'&夜晨舒适度='1级，暖和，较舒适'&紫外线强度指数='3级，中等,需遮阳与涂防晒霜'&穿衣指数 ='1级，穿盛夏短装 '&郊游指数='2级，天气不太好,出游要有所防备'&森林火险='3级，中度危险,能燃烧'&明天市区温度='26到32'&明天永春温度='24到32'&明天沿海天气='阵雨'&明天山区天气='小雨转中雨'&明天风='偏东风4～5级'&后天市区温度='26到32'&后天永春温度='24到32'&后天沿海天气='阵雨'&后天山区天气='多云转小雨'&后天风='东北风4～5级阵风6级'&大后天市区温度='25到32'&大后天永春温度='24到33'&大后天沿海天气='小雨转多云'&大后天山区天气='小雨转多云'&大后天风='东北风5～6级阵风7～8级'\")\n",
    "print(result_zh['text'])"
   ]
  },
  {
   "cell_type": "code",
   "execution_count": 10,
   "id": "6ef83173-c623-4646-937a-cb499b19ec4e",
   "metadata": {
    "ExecutionIndicator": {
     "show": true
    },
    "execution": {
     "iopub.execute_input": "2024-02-01T05:41:52.617203Z",
     "iopub.status.busy": "2024-02-01T05:41:52.616880Z",
     "iopub.status.idle": "2024-02-01T05:41:52.621014Z",
     "shell.execute_reply": "2024-02-01T05:41:52.620380Z",
     "shell.execute_reply.started": "2024-02-01T05:41:52.617184Z"
    },
    "tags": []
   },
   "outputs": [
    {
     "data": {
      "text/plain": [
       "129"
      ]
     },
     "execution_count": 10,
     "metadata": {},
     "output_type": "execute_result"
    }
   ],
   "source": [
    "len(result_zh['text'])"
   ]
  },
  {
   "cell_type": "code",
   "execution_count": null,
   "id": "bfe91a06-495e-4c99-a0fd-483036fac200",
   "metadata": {},
   "outputs": [],
   "source": []
  }
 ],
 "metadata": {
  "kernelspec": {
   "display_name": "Python 3 (ipykernel)",
   "language": "python",
   "name": "python3"
  },
  "language_info": {
   "codemirror_mode": {
    "name": "ipython",
    "version": 3
   },
   "file_extension": ".py",
   "mimetype": "text/x-python",
   "name": "python",
   "nbconvert_exporter": "python",
   "pygments_lexer": "ipython3",
   "version": "3.10.13"
  }
 },
 "nbformat": 4,
 "nbformat_minor": 5
}
